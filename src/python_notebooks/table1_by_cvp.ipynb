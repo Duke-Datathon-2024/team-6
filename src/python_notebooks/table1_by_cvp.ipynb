{
 "cells": [
  {
   "cell_type": "code",
   "execution_count": 23,
   "metadata": {},
   "outputs": [],
   "source": [
    "import pandas as pd\n",
    "import numpy as np\n",
    "from tableone import TableOne"
   ]
  },
  {
   "cell_type": "code",
   "execution_count": 24,
   "metadata": {},
   "outputs": [
    {
     "data": {
      "text/html": [
       "<div>\n",
       "<style scoped>\n",
       "    .dataframe tbody tr th:only-of-type {\n",
       "        vertical-align: middle;\n",
       "    }\n",
       "\n",
       "    .dataframe tbody tr th {\n",
       "        vertical-align: top;\n",
       "    }\n",
       "\n",
       "    .dataframe thead th {\n",
       "        text-align: right;\n",
       "    }\n",
       "</style>\n",
       "<table border=\"1\" class=\"dataframe\">\n",
       "  <thead>\n",
       "    <tr style=\"text-align: right;\">\n",
       "      <th></th>\n",
       "      <th>stay_id</th>\n",
       "      <th>MV_time_days</th>\n",
       "      <th>stay_id_1</th>\n",
       "      <th>first_ventilation_time</th>\n",
       "      <th>dayThreeTime</th>\n",
       "      <th>stay_id_2</th>\n",
       "      <th>min_pao2fio2ratio_vent</th>\n",
       "      <th>stay_id_3</th>\n",
       "      <th>ventilator_mode_yes</th>\n",
       "      <th>subject_id</th>\n",
       "      <th>...</th>\n",
       "      <th>mean_tidal_volume_observed_d1</th>\n",
       "      <th>mean_MP_d2</th>\n",
       "      <th>mean_ptina_d2</th>\n",
       "      <th>mean_peep_d2</th>\n",
       "      <th>mean_MP_ind_d2</th>\n",
       "      <th>mean_plateau_pressure_d2</th>\n",
       "      <th>mean_tidal_volume_observed_d2</th>\n",
       "      <th>mean_MP_d1_over18</th>\n",
       "      <th>mean_MP_d2_over18</th>\n",
       "      <th>mean_MP_all_over18</th>\n",
       "    </tr>\n",
       "  </thead>\n",
       "  <tbody>\n",
       "    <tr>\n",
       "      <th>0</th>\n",
       "      <td>35315105</td>\n",
       "      <td>26.583333</td>\n",
       "      <td>35315105</td>\n",
       "      <td>2183-10-19T18:35:00Z</td>\n",
       "      <td>2183-10-22T18:35:00Z</td>\n",
       "      <td>35315105</td>\n",
       "      <td>24.000000</td>\n",
       "      <td>35315105</td>\n",
       "      <td>1</td>\n",
       "      <td>16124682</td>\n",
       "      <td>...</td>\n",
       "      <td>468.666667</td>\n",
       "      <td>16.471775</td>\n",
       "      <td>17.666667</td>\n",
       "      <td>9.333333</td>\n",
       "      <td>0.294327</td>\n",
       "      <td>17.666667</td>\n",
       "      <td>468.666667</td>\n",
       "      <td>0.0</td>\n",
       "      <td>0.0</td>\n",
       "      <td>1.0</td>\n",
       "    </tr>\n",
       "    <tr>\n",
       "      <th>1</th>\n",
       "      <td>30514767</td>\n",
       "      <td>3.625000</td>\n",
       "      <td>30514767</td>\n",
       "      <td>2127-02-09T21:27:00Z</td>\n",
       "      <td>2127-02-12T21:27:00Z</td>\n",
       "      <td>30514767</td>\n",
       "      <td>25.000000</td>\n",
       "      <td>30514767</td>\n",
       "      <td>1</td>\n",
       "      <td>16277979</td>\n",
       "      <td>...</td>\n",
       "      <td>482.750000</td>\n",
       "      <td>23.574341</td>\n",
       "      <td>19.750000</td>\n",
       "      <td>10.600000</td>\n",
       "      <td>0.447478</td>\n",
       "      <td>19.750000</td>\n",
       "      <td>482.750000</td>\n",
       "      <td>1.0</td>\n",
       "      <td>1.0</td>\n",
       "      <td>1.0</td>\n",
       "    </tr>\n",
       "    <tr>\n",
       "      <th>2</th>\n",
       "      <td>39442549</td>\n",
       "      <td>11.750000</td>\n",
       "      <td>39442549</td>\n",
       "      <td>2144-01-24T15:30:00Z</td>\n",
       "      <td>2144-01-27T15:30:00Z</td>\n",
       "      <td>39442549</td>\n",
       "      <td>26.000000</td>\n",
       "      <td>39442549</td>\n",
       "      <td>1</td>\n",
       "      <td>17172316</td>\n",
       "      <td>...</td>\n",
       "      <td>NaN</td>\n",
       "      <td>NaN</td>\n",
       "      <td>NaN</td>\n",
       "      <td>NaN</td>\n",
       "      <td>NaN</td>\n",
       "      <td>NaN</td>\n",
       "      <td>NaN</td>\n",
       "      <td>NaN</td>\n",
       "      <td>NaN</td>\n",
       "      <td>NaN</td>\n",
       "    </tr>\n",
       "    <tr>\n",
       "      <th>3</th>\n",
       "      <td>35565911</td>\n",
       "      <td>4.958333</td>\n",
       "      <td>35565911</td>\n",
       "      <td>2185-12-15T15:00:00Z</td>\n",
       "      <td>2185-12-18T15:00:00Z</td>\n",
       "      <td>35565911</td>\n",
       "      <td>26.000000</td>\n",
       "      <td>35565911</td>\n",
       "      <td>1</td>\n",
       "      <td>12388732</td>\n",
       "      <td>...</td>\n",
       "      <td>459.500000</td>\n",
       "      <td>14.262577</td>\n",
       "      <td>15.000000</td>\n",
       "      <td>8.000000</td>\n",
       "      <td>0.216850</td>\n",
       "      <td>15.000000</td>\n",
       "      <td>459.500000</td>\n",
       "      <td>0.0</td>\n",
       "      <td>0.0</td>\n",
       "      <td>0.0</td>\n",
       "    </tr>\n",
       "    <tr>\n",
       "      <th>4</th>\n",
       "      <td>33253990</td>\n",
       "      <td>7.250000</td>\n",
       "      <td>33253990</td>\n",
       "      <td>2169-09-02T05:00:00Z</td>\n",
       "      <td>2169-09-05T05:00:00Z</td>\n",
       "      <td>33253990</td>\n",
       "      <td>29.000000</td>\n",
       "      <td>33253990</td>\n",
       "      <td>1</td>\n",
       "      <td>12142361</td>\n",
       "      <td>...</td>\n",
       "      <td>493.000000</td>\n",
       "      <td>10.862741</td>\n",
       "      <td>17.800000</td>\n",
       "      <td>5.100000</td>\n",
       "      <td>0.273680</td>\n",
       "      <td>17.800000</td>\n",
       "      <td>493.000000</td>\n",
       "      <td>0.0</td>\n",
       "      <td>0.0</td>\n",
       "      <td>0.0</td>\n",
       "    </tr>\n",
       "    <tr>\n",
       "      <th>...</th>\n",
       "      <td>...</td>\n",
       "      <td>...</td>\n",
       "      <td>...</td>\n",
       "      <td>...</td>\n",
       "      <td>...</td>\n",
       "      <td>...</td>\n",
       "      <td>...</td>\n",
       "      <td>...</td>\n",
       "      <td>...</td>\n",
       "      <td>...</td>\n",
       "      <td>...</td>\n",
       "      <td>...</td>\n",
       "      <td>...</td>\n",
       "      <td>...</td>\n",
       "      <td>...</td>\n",
       "      <td>...</td>\n",
       "      <td>...</td>\n",
       "      <td>...</td>\n",
       "      <td>...</td>\n",
       "      <td>...</td>\n",
       "      <td>...</td>\n",
       "    </tr>\n",
       "    <tr>\n",
       "      <th>4741</th>\n",
       "      <td>33175269</td>\n",
       "      <td>5.666667</td>\n",
       "      <td>33175269</td>\n",
       "      <td>2167-11-17T14:00:00Z</td>\n",
       "      <td>2167-11-20T14:00:00Z</td>\n",
       "      <td>33175269</td>\n",
       "      <td>69.473684</td>\n",
       "      <td>33175269</td>\n",
       "      <td>1</td>\n",
       "      <td>18642064</td>\n",
       "      <td>...</td>\n",
       "      <td>461.250000</td>\n",
       "      <td>19.324461</td>\n",
       "      <td>20.875000</td>\n",
       "      <td>8.500000</td>\n",
       "      <td>0.527375</td>\n",
       "      <td>20.875000</td>\n",
       "      <td>461.250000</td>\n",
       "      <td>1.0</td>\n",
       "      <td>1.0</td>\n",
       "      <td>0.0</td>\n",
       "    </tr>\n",
       "    <tr>\n",
       "      <th>4742</th>\n",
       "      <td>34379501</td>\n",
       "      <td>7.541667</td>\n",
       "      <td>34379501</td>\n",
       "      <td>2132-01-12T18:20:00Z</td>\n",
       "      <td>2132-01-15T18:20:00Z</td>\n",
       "      <td>34379501</td>\n",
       "      <td>89.473684</td>\n",
       "      <td>34379501</td>\n",
       "      <td>1</td>\n",
       "      <td>14539351</td>\n",
       "      <td>...</td>\n",
       "      <td>466.166667</td>\n",
       "      <td>30.917432</td>\n",
       "      <td>27.333333</td>\n",
       "      <td>6.000000</td>\n",
       "      <td>1.387729</td>\n",
       "      <td>27.333333</td>\n",
       "      <td>466.166667</td>\n",
       "      <td>1.0</td>\n",
       "      <td>1.0</td>\n",
       "      <td>1.0</td>\n",
       "    </tr>\n",
       "    <tr>\n",
       "      <th>4743</th>\n",
       "      <td>37119620</td>\n",
       "      <td>4.500000</td>\n",
       "      <td>37119620</td>\n",
       "      <td>2163-04-14T16:00:00Z</td>\n",
       "      <td>2163-04-17T16:00:00Z</td>\n",
       "      <td>37119620</td>\n",
       "      <td>68.367347</td>\n",
       "      <td>37119620</td>\n",
       "      <td>1</td>\n",
       "      <td>19893454</td>\n",
       "      <td>...</td>\n",
       "      <td>353.000000</td>\n",
       "      <td>9.722629</td>\n",
       "      <td>19.500000</td>\n",
       "      <td>11.000000</td>\n",
       "      <td>0.271019</td>\n",
       "      <td>19.500000</td>\n",
       "      <td>353.000000</td>\n",
       "      <td>0.0</td>\n",
       "      <td>0.0</td>\n",
       "      <td>0.0</td>\n",
       "    </tr>\n",
       "    <tr>\n",
       "      <th>4744</th>\n",
       "      <td>37406379</td>\n",
       "      <td>7.833333</td>\n",
       "      <td>37406379</td>\n",
       "      <td>2138-05-21T10:00:00Z</td>\n",
       "      <td>2138-05-24T10:00:00Z</td>\n",
       "      <td>37406379</td>\n",
       "      <td>80.434783</td>\n",
       "      <td>37406379</td>\n",
       "      <td>1</td>\n",
       "      <td>16164098</td>\n",
       "      <td>...</td>\n",
       "      <td>467.000000</td>\n",
       "      <td>26.143872</td>\n",
       "      <td>19.400000</td>\n",
       "      <td>8.000000</td>\n",
       "      <td>0.638823</td>\n",
       "      <td>19.400000</td>\n",
       "      <td>467.000000</td>\n",
       "      <td>1.0</td>\n",
       "      <td>1.0</td>\n",
       "      <td>1.0</td>\n",
       "    </tr>\n",
       "    <tr>\n",
       "      <th>4745</th>\n",
       "      <td>39103057</td>\n",
       "      <td>13.500000</td>\n",
       "      <td>39103057</td>\n",
       "      <td>2185-06-05T14:19:00Z</td>\n",
       "      <td>2185-06-08T14:19:00Z</td>\n",
       "      <td>39103057</td>\n",
       "      <td>52.525253</td>\n",
       "      <td>39103057</td>\n",
       "      <td>1</td>\n",
       "      <td>17076438</td>\n",
       "      <td>...</td>\n",
       "      <td>NaN</td>\n",
       "      <td>NaN</td>\n",
       "      <td>NaN</td>\n",
       "      <td>NaN</td>\n",
       "      <td>NaN</td>\n",
       "      <td>NaN</td>\n",
       "      <td>NaN</td>\n",
       "      <td>NaN</td>\n",
       "      <td>NaN</td>\n",
       "      <td>1.0</td>\n",
       "    </tr>\n",
       "  </tbody>\n",
       "</table>\n",
       "<p>4746 rows × 69 columns</p>\n",
       "</div>"
      ],
      "text/plain": [
       "       stay_id  MV_time_days  stay_id_1 first_ventilation_time  \\\n",
       "0     35315105     26.583333   35315105   2183-10-19T18:35:00Z   \n",
       "1     30514767      3.625000   30514767   2127-02-09T21:27:00Z   \n",
       "2     39442549     11.750000   39442549   2144-01-24T15:30:00Z   \n",
       "3     35565911      4.958333   35565911   2185-12-15T15:00:00Z   \n",
       "4     33253990      7.250000   33253990   2169-09-02T05:00:00Z   \n",
       "...        ...           ...        ...                    ...   \n",
       "4741  33175269      5.666667   33175269   2167-11-17T14:00:00Z   \n",
       "4742  34379501      7.541667   34379501   2132-01-12T18:20:00Z   \n",
       "4743  37119620      4.500000   37119620   2163-04-14T16:00:00Z   \n",
       "4744  37406379      7.833333   37406379   2138-05-21T10:00:00Z   \n",
       "4745  39103057     13.500000   39103057   2185-06-05T14:19:00Z   \n",
       "\n",
       "              dayThreeTime  stay_id_2  min_pao2fio2ratio_vent  stay_id_3  \\\n",
       "0     2183-10-22T18:35:00Z   35315105               24.000000   35315105   \n",
       "1     2127-02-12T21:27:00Z   30514767               25.000000   30514767   \n",
       "2     2144-01-27T15:30:00Z   39442549               26.000000   39442549   \n",
       "3     2185-12-18T15:00:00Z   35565911               26.000000   35565911   \n",
       "4     2169-09-05T05:00:00Z   33253990               29.000000   33253990   \n",
       "...                    ...        ...                     ...        ...   \n",
       "4741  2167-11-20T14:00:00Z   33175269               69.473684   33175269   \n",
       "4742  2132-01-15T18:20:00Z   34379501               89.473684   34379501   \n",
       "4743  2163-04-17T16:00:00Z   37119620               68.367347   37119620   \n",
       "4744  2138-05-24T10:00:00Z   37406379               80.434783   37406379   \n",
       "4745  2185-06-08T14:19:00Z   39103057               52.525253   39103057   \n",
       "\n",
       "      ventilator_mode_yes  subject_id  ...  mean_tidal_volume_observed_d1  \\\n",
       "0                       1    16124682  ...                     468.666667   \n",
       "1                       1    16277979  ...                     482.750000   \n",
       "2                       1    17172316  ...                            NaN   \n",
       "3                       1    12388732  ...                     459.500000   \n",
       "4                       1    12142361  ...                     493.000000   \n",
       "...                   ...         ...  ...                            ...   \n",
       "4741                    1    18642064  ...                     461.250000   \n",
       "4742                    1    14539351  ...                     466.166667   \n",
       "4743                    1    19893454  ...                     353.000000   \n",
       "4744                    1    16164098  ...                     467.000000   \n",
       "4745                    1    17076438  ...                            NaN   \n",
       "\n",
       "     mean_MP_d2 mean_ptina_d2 mean_peep_d2 mean_MP_ind_d2  \\\n",
       "0     16.471775     17.666667     9.333333       0.294327   \n",
       "1     23.574341     19.750000    10.600000       0.447478   \n",
       "2           NaN           NaN          NaN            NaN   \n",
       "3     14.262577     15.000000     8.000000       0.216850   \n",
       "4     10.862741     17.800000     5.100000       0.273680   \n",
       "...         ...           ...          ...            ...   \n",
       "4741  19.324461     20.875000     8.500000       0.527375   \n",
       "4742  30.917432     27.333333     6.000000       1.387729   \n",
       "4743   9.722629     19.500000    11.000000       0.271019   \n",
       "4744  26.143872     19.400000     8.000000       0.638823   \n",
       "4745        NaN           NaN          NaN            NaN   \n",
       "\n",
       "      mean_plateau_pressure_d2  mean_tidal_volume_observed_d2  \\\n",
       "0                    17.666667                     468.666667   \n",
       "1                    19.750000                     482.750000   \n",
       "2                          NaN                            NaN   \n",
       "3                    15.000000                     459.500000   \n",
       "4                    17.800000                     493.000000   \n",
       "...                        ...                            ...   \n",
       "4741                 20.875000                     461.250000   \n",
       "4742                 27.333333                     466.166667   \n",
       "4743                 19.500000                     353.000000   \n",
       "4744                 19.400000                     467.000000   \n",
       "4745                       NaN                            NaN   \n",
       "\n",
       "     mean_MP_d1_over18  mean_MP_d2_over18  mean_MP_all_over18  \n",
       "0                  0.0                0.0                 1.0  \n",
       "1                  1.0                1.0                 1.0  \n",
       "2                  NaN                NaN                 NaN  \n",
       "3                  0.0                0.0                 0.0  \n",
       "4                  0.0                0.0                 0.0  \n",
       "...                ...                ...                 ...  \n",
       "4741               1.0                1.0                 0.0  \n",
       "4742               1.0                1.0                 1.0  \n",
       "4743               0.0                0.0                 0.0  \n",
       "4744               1.0                1.0                 1.0  \n",
       "4745               NaN                NaN                 1.0  \n",
       "\n",
       "[4746 rows x 69 columns]"
      ]
     },
     "execution_count": 24,
     "metadata": {},
     "output_type": "execute_result"
    }
   ],
   "source": [
    "df = pd.read_csv('../../data/cohort_final.csv')\n",
    "df"
   ]
  },
  {
   "cell_type": "code",
   "execution_count": 25,
   "metadata": {},
   "outputs": [
    {
     "data": {
      "text/plain": [
       "(4746, 69)"
      ]
     },
     "execution_count": 25,
     "metadata": {},
     "output_type": "execute_result"
    }
   ],
   "source": [
    "df.shape"
   ]
  },
  {
   "cell_type": "code",
   "execution_count": 26,
   "metadata": {},
   "outputs": [
    {
     "data": {
      "text/plain": [
       "Index(['stay_id', 'MV_time_days', 'stay_id_1', 'first_ventilation_time',\n",
       "       'dayThreeTime', 'stay_id_2', 'min_pao2fio2ratio_vent', 'stay_id_3',\n",
       "       'ventilator_mode_yes', 'subject_id', 'hadm_id', 'gender', 'dod',\n",
       "       'admittime', 'dischtime', 'los_hospital', 'admission_age', 'white_race',\n",
       "       'hospital_expire_flag', 'hospstay_seq', 'first_hosp_stay', 'icu_intime',\n",
       "       'icu_outtime', 'los_icu', 'icustay_seq', 'first_icu_stay', 'race_group',\n",
       "       'sex_female', 'los_icu_1', 'language', 'eng_prof', 'insurance',\n",
       "       'private_insurance', 'mortality_in', 'mortality_90', 'disposition',\n",
       "       'los_icu_survivors', 'los_icu_expired', 'anchor_age',\n",
       "       'charlson_comorbidity_index', 'discharge_location', 'SOFA',\n",
       "       'pao2fio2ratio_vent', 'starttime', 'intime', 'cvp', 'bicarbonate',\n",
       "       'missing_cvp', 'mean_MP_all', 'mean_ptina_all', 'mean_peep_all',\n",
       "       'mean_MP_ind_all', 'mean_plateau_pressure_all',\n",
       "       'mean_tidal_volume_observed_all', 'mean_MP_d1', 'mean_ptina_d1',\n",
       "       'mean_peep_d1', 'mean_MP_ind_d1', 'mean_plateau_pressure_d1',\n",
       "       'mean_tidal_volume_observed_d1', 'mean_MP_d2', 'mean_ptina_d2',\n",
       "       'mean_peep_d2', 'mean_MP_ind_d2', 'mean_plateau_pressure_d2',\n",
       "       'mean_tidal_volume_observed_d2', 'mean_MP_d1_over18',\n",
       "       'mean_MP_d2_over18', 'mean_MP_all_over18'],\n",
       "      dtype='object')"
      ]
     },
     "execution_count": 26,
     "metadata": {},
     "output_type": "execute_result"
    }
   ],
   "source": [
    "df.columns"
   ]
  },
  {
   "cell_type": "code",
   "execution_count": 27,
   "metadata": {},
   "outputs": [
    {
     "data": {
      "text/plain": [
       "SOFA\n",
       "8     473\n",
       "7     470\n",
       "5     455\n",
       "9     449\n",
       "6     445\n",
       "4     403\n",
       "10    371\n",
       "11    326\n",
       "12    243\n",
       "3     200\n",
       "13    186\n",
       "1     175\n",
       "2     162\n",
       "14    127\n",
       "15     92\n",
       "16     68\n",
       "17     28\n",
       "0      25\n",
       "18     24\n",
       "19     12\n",
       "20      7\n",
       "21      3\n",
       "23      1\n",
       "22      1\n",
       "Name: count, dtype: int64"
      ]
     },
     "execution_count": 27,
     "metadata": {},
     "output_type": "execute_result"
    }
   ],
   "source": [
    "df['SOFA'].value_counts()"
   ]
  },
  {
   "cell_type": "code",
   "execution_count": 28,
   "metadata": {},
   "outputs": [
    {
     "data": {
      "text/plain": [
       "charlson_comorbidity_index\n",
       "5     646\n",
       "4     639\n",
       "6     603\n",
       "3     554\n",
       "7     483\n",
       "8     373\n",
       "2     369\n",
       "1     298\n",
       "9     266\n",
       "0     232\n",
       "10    152\n",
       "11     69\n",
       "12     36\n",
       "13      8\n",
       "14      8\n",
       "15      6\n",
       "19      2\n",
       "16      1\n",
       "17      1\n",
       "Name: count, dtype: int64"
      ]
     },
     "execution_count": 28,
     "metadata": {},
     "output_type": "execute_result"
    }
   ],
   "source": [
    "df['charlson_comorbidity_index'].value_counts()"
   ]
  },
  {
   "cell_type": "code",
   "execution_count": 29,
   "metadata": {},
   "outputs": [
    {
     "data": {
      "text/plain": [
       "mortality_in\n",
       "0    3537\n",
       "1    1209\n",
       "Name: count, dtype: int64"
      ]
     },
     "execution_count": 29,
     "metadata": {},
     "output_type": "execute_result"
    }
   ],
   "source": [
    "df['mortality_in'].value_counts()"
   ]
  },
  {
   "cell_type": "code",
   "execution_count": 30,
   "metadata": {},
   "outputs": [
    {
     "data": {
      "text/plain": [
       "mortality_90\n",
       "0    3156\n",
       "1    1590\n",
       "Name: count, dtype: int64"
      ]
     },
     "execution_count": 30,
     "metadata": {},
     "output_type": "execute_result"
    }
   ],
   "source": [
    "df['mortality_90'].value_counts()"
   ]
  },
  {
   "cell_type": "code",
   "execution_count": 31,
   "metadata": {},
   "outputs": [
    {
     "data": {
      "text/plain": [
       "8.75"
      ]
     },
     "execution_count": 31,
     "metadata": {},
     "output_type": "execute_result"
    }
   ],
   "source": [
    "df['los_icu'].median()"
   ]
  },
  {
   "cell_type": "code",
   "execution_count": 32,
   "metadata": {},
   "outputs": [
    {
     "data": {
      "text/plain": [
       "Index(['stay_id', 'MV_time_days', 'stay_id_1', 'first_ventilation_time',\n",
       "       'dayThreeTime', 'stay_id_2', 'min_pao2fio2ratio_vent', 'stay_id_3',\n",
       "       'ventilator_mode_yes', 'subject_id', 'hadm_id', 'gender', 'dod',\n",
       "       'admittime', 'dischtime', 'los_hospital', 'admission_age', 'white_race',\n",
       "       'hospital_expire_flag', 'hospstay_seq', 'first_hosp_stay', 'icu_intime',\n",
       "       'icu_outtime', 'los_icu', 'icustay_seq', 'first_icu_stay', 'race_group',\n",
       "       'sex_female', 'los_icu_1', 'language', 'eng_prof', 'insurance',\n",
       "       'private_insurance', 'mortality_in', 'mortality_90', 'disposition',\n",
       "       'los_icu_survivors', 'los_icu_expired', 'anchor_age',\n",
       "       'charlson_comorbidity_index', 'discharge_location', 'SOFA',\n",
       "       'pao2fio2ratio_vent', 'starttime', 'intime', 'cvp', 'bicarbonate',\n",
       "       'missing_cvp', 'mean_MP_all', 'mean_ptina_all', 'mean_peep_all',\n",
       "       'mean_MP_ind_all', 'mean_plateau_pressure_all',\n",
       "       'mean_tidal_volume_observed_all', 'mean_MP_d1', 'mean_ptina_d1',\n",
       "       'mean_peep_d1', 'mean_MP_ind_d1', 'mean_plateau_pressure_d1',\n",
       "       'mean_tidal_volume_observed_d1', 'mean_MP_d2', 'mean_ptina_d2',\n",
       "       'mean_peep_d2', 'mean_MP_ind_d2', 'mean_plateau_pressure_d2',\n",
       "       'mean_tidal_volume_observed_d2', 'mean_MP_d1_over18',\n",
       "       'mean_MP_d2_over18', 'mean_MP_all_over18'],\n",
       "      dtype='object')"
      ]
     },
     "execution_count": 32,
     "metadata": {},
     "output_type": "execute_result"
    }
   ],
   "source": [
    "df.columns"
   ]
  },
  {
   "cell_type": "code",
   "execution_count": 33,
   "metadata": {},
   "outputs": [
    {
     "data": {
      "text/plain": [
       "cvp\n",
       " 10.0     221\n",
       " 12.0     221\n",
       " 15.0     212\n",
       " 13.0     205\n",
       " 14.0     201\n",
       "         ... \n",
       " 68.0       1\n",
       "-17.0       1\n",
       " 231.0      1\n",
       " 361.0      1\n",
       " 324.0      1\n",
       "Name: count, Length: 91, dtype: int64"
      ]
     },
     "execution_count": 33,
     "metadata": {},
     "output_type": "execute_result"
    }
   ],
   "source": [
    "df['cvp'].value_counts()"
   ]
  },
  {
   "cell_type": "code",
   "execution_count": 34,
   "metadata": {},
   "outputs": [
    {
     "data": {
      "text/plain": [
       "missing_cvp\n",
       "0    2920\n",
       "1    1826\n",
       "Name: count, dtype: int64"
      ]
     },
     "execution_count": 34,
     "metadata": {},
     "output_type": "execute_result"
    }
   ],
   "source": [
    "df['missing_cvp'].value_counts()"
   ]
  },
  {
   "cell_type": "code",
   "execution_count": 35,
   "metadata": {},
   "outputs": [],
   "source": [
    "# list of columns to be included in Table 1\n",
    "columns_to_include = ['gender', 'admission_age','white_race','race_group',\n",
    "       'eng_prof', 'private_insurance',\n",
    "       'disposition',\n",
    "       'SOFA', 'charlson_comorbidity_index', 'los_icu',\n",
    "       'los_icu_survivors', 'los_icu_expired', \n",
    "       'mortality_90', 'mortality_in'    \n",
    "       ]"
   ]
  },
  {
   "cell_type": "code",
   "execution_count": 36,
   "metadata": {},
   "outputs": [
    {
     "data": {
      "text/plain": [
       "race_group\n",
       "White       3199\n",
       "Other        889\n",
       "Black        383\n",
       "Hispanic     164\n",
       "Asian        111\n",
       "Name: count, dtype: int64"
      ]
     },
     "execution_count": 36,
     "metadata": {},
     "output_type": "execute_result"
    }
   ],
   "source": [
    "df['race_group'].value_counts()"
   ]
  },
  {
   "cell_type": "code",
   "execution_count": 37,
   "metadata": {},
   "outputs": [
    {
     "data": {
      "text/plain": [
       "white_race\n",
       "White        3199\n",
       "Non-white    1547\n",
       "Name: count, dtype: int64"
      ]
     },
     "execution_count": 37,
     "metadata": {},
     "output_type": "execute_result"
    }
   ],
   "source": [
    "df['white_race'].value_counts()"
   ]
  },
  {
   "cell_type": "code",
   "execution_count": 38,
   "metadata": {},
   "outputs": [],
   "source": [
    "# list of columns containing categorical variables\n",
    "categorical = ['gender', \n",
    "       'race_group',\n",
    "       'eng_prof', 'private_insurance', \n",
    "       'disposition',\n",
    "       'white_race',\n",
    "       # 'mechanical_pressor',\n",
    "       'mortality_90', 'mortality_in']"
   ]
  },
  {
   "cell_type": "code",
   "execution_count": 39,
   "metadata": {},
   "outputs": [],
   "source": [
    "# categorical variable for stratification\n",
    "groupby = ['missing_cvp']"
   ]
  },
  {
   "cell_type": "code",
   "execution_count": 40,
   "metadata": {},
   "outputs": [],
   "source": [
    "# list of non-normal variables\n",
    "nonnormal = ['admission_age', 'SOFA', 'charlson_comorbidity_index', 'los_icu',\n",
    "              'los_icu_survivors', 'los_icu_expired', ]"
   ]
  },
  {
   "cell_type": "code",
   "execution_count": 41,
   "metadata": {},
   "outputs": [],
   "source": [
    "# dictionary of alternative labels:\n",
    "labels={'disposition': 'discharge disposition',\n",
    "       'eng_prof': 'english proficiency', 'first_code': 'first ICD code',\n",
    "       'los_icu': 'length of stay in ICU', \n",
    "        'los_icu_survivors': 'length of stay in ICU for survivors',\n",
    "        'los_icu_expired': 'length of stay in ICU for expired',\n",
    "       'mortality_90': 'mortality in 90 days',\n",
    "       'mortality_in': 'mortality in hospital'}"
   ]
  },
  {
   "cell_type": "code",
   "execution_count": 42,
   "metadata": {},
   "outputs": [
    {
     "ename": "InputError",
     "evalue": "The following continuous column(s) have non-numeric values: ['white_race']. Either specify the column(s) as categorical or remove the non-numeric values.",
     "output_type": "error",
     "traceback": [
      "\u001b[0;31m---------------------------------------------------------------------------\u001b[0m",
      "\u001b[0;31mInputError\u001b[0m                                Traceback (most recent call last)",
      "\u001b[1;32m/Users/chrystinne/Work/lcp/duke_datathon_team_6/src/notebooks/table1_by_cvp.ipynb Cell 20\u001b[0m in \u001b[0;36m2\n\u001b[1;32m      <a href='vscode-notebook-cell:/Users/chrystinne/Work/lcp/duke_datathon_team_6/src/notebooks/table1_by_cvp.ipynb#X51sZmlsZQ%3D%3D?line=0'>1</a>\u001b[0m \u001b[39m# Create an instance of TableOne with the input arguments\u001b[39;00m\n\u001b[0;32m----> <a href='vscode-notebook-cell:/Users/chrystinne/Work/lcp/duke_datathon_team_6/src/notebooks/table1_by_cvp.ipynb#X51sZmlsZQ%3D%3D?line=1'>2</a>\u001b[0m mytable \u001b[39m=\u001b[39m TableOne(df, columns\u001b[39m=\u001b[39;49mcolumns_to_include, categorical\u001b[39m=\u001b[39;49mcategorical, groupby\u001b[39m=\u001b[39;49mgroupby, nonnormal\u001b[39m=\u001b[39;49mnonnormal, rename\u001b[39m=\u001b[39;49mlabels, pval\u001b[39m=\u001b[39;49m\u001b[39mFalse\u001b[39;49;00m)\n",
      "File \u001b[0;32m~/.pyenv/versions/3.9.7/lib/python3.9/site-packages/tableone/tableone.py:406\u001b[0m, in \u001b[0;36mTableOne.__init__\u001b[0;34m(self, data, columns, categorical, groupby, nonnormal, min_max, pval, pval_adjust, htest_name, pval_test_name, htest, isnull, missing, ddof, labels, rename, sort, limit, order, remarks, label_suffix, decimals, smd, overall, row_percent, display_all, dip_test, normal_test, tukey_test)\u001b[0m\n\u001b[1;32m    401\u001b[0m     \u001b[39mself\u001b[39m\u001b[39m.\u001b[39mcat_describe_all \u001b[39m=\u001b[39m \u001b[39mself\u001b[39m\u001b[39m.\u001b[39m_create_cat_describe(data\u001b[39m=\u001b[39mdata,\n\u001b[1;32m    402\u001b[0m                                                       groupby\u001b[39m=\u001b[39m\u001b[39mNone\u001b[39;00m,\n\u001b[1;32m    403\u001b[0m                                                       groupbylvls\u001b[39m=\u001b[39m[\u001b[39m'\u001b[39m\u001b[39mOverall\u001b[39m\u001b[39m'\u001b[39m])\n\u001b[1;32m    405\u001b[0m \u001b[39mif\u001b[39;00m \u001b[39mself\u001b[39m\u001b[39m.\u001b[39m_continuous \u001b[39mand\u001b[39;00m \u001b[39mself\u001b[39m\u001b[39m.\u001b[39m_groupby \u001b[39mand\u001b[39;00m overall:\n\u001b[0;32m--> 406\u001b[0m     \u001b[39mself\u001b[39m\u001b[39m.\u001b[39mcont_describe_all \u001b[39m=\u001b[39m \u001b[39mself\u001b[39;49m\u001b[39m.\u001b[39;49m_create_cont_describe(data\u001b[39m=\u001b[39;49mdata,\n\u001b[1;32m    407\u001b[0m                                                         groupby\u001b[39m=\u001b[39;49m\u001b[39mNone\u001b[39;49;00m)\n\u001b[1;32m    409\u001b[0m \u001b[39m# create descriptive tables\u001b[39;00m\n\u001b[1;32m    410\u001b[0m \u001b[39mif\u001b[39;00m \u001b[39mself\u001b[39m\u001b[39m.\u001b[39m_categorical:\n",
      "File \u001b[0;32m~/.pyenv/versions/3.9.7/lib/python3.9/site-packages/tableone/tableone.py:914\u001b[0m, in \u001b[0;36mTableOne._create_cont_describe\u001b[0;34m(self, data, groupby)\u001b[0m\n\u001b[1;32m    909\u001b[0m \u001b[39mif\u001b[39;00m \u001b[39mlen\u001b[39m(bad_cols) \u001b[39m>\u001b[39m \u001b[39m0\u001b[39m:\n\u001b[1;32m    910\u001b[0m     msg \u001b[39m=\u001b[39m (\u001b[39m\"\u001b[39m\u001b[39mThe following continuous column(s) have \u001b[39m\u001b[39m\"\u001b[39m\n\u001b[1;32m    911\u001b[0m            \u001b[39m\"\u001b[39m\u001b[39mnon-numeric values: \u001b[39m\u001b[39m{variables}\u001b[39;00m\u001b[39m. Either specify the \u001b[39m\u001b[39m\"\u001b[39m\n\u001b[1;32m    912\u001b[0m            \u001b[39m\"\u001b[39m\u001b[39mcolumn(s) as categorical or remove the \u001b[39m\u001b[39m\"\u001b[39m\n\u001b[1;32m    913\u001b[0m            \u001b[39m\"\u001b[39m\u001b[39mnon-numeric values.\u001b[39m\u001b[39m\"\u001b[39m)\u001b[39m.\u001b[39mformat(variables\u001b[39m=\u001b[39mbad_cols\u001b[39m.\u001b[39mvalues)\n\u001b[0;32m--> 914\u001b[0m     \u001b[39mraise\u001b[39;00m InputError(msg)\n\u001b[1;32m    916\u001b[0m \u001b[39m# check for coerced column containing all NaN to warn user\u001b[39;00m\n\u001b[1;32m    917\u001b[0m \u001b[39mfor\u001b[39;00m column \u001b[39min\u001b[39;00m cont_data\u001b[39m.\u001b[39mcolumns[cont_data\u001b[39m.\u001b[39mcount() \u001b[39m==\u001b[39m \u001b[39m0\u001b[39m]:\n",
      "\u001b[0;31mInputError\u001b[0m: The following continuous column(s) have non-numeric values: ['white_race']. Either specify the column(s) as categorical or remove the non-numeric values."
     ]
    }
   ],
   "source": [
    "# Create an instance of TableOne with the input arguments\n",
    "mytable = TableOne(df, columns=columns_to_include, categorical=categorical, groupby=groupby, nonnormal=nonnormal, rename=labels, pval=False)\n"
   ]
  },
  {
   "cell_type": "code",
   "execution_count": null,
   "metadata": {},
   "outputs": [
    {
     "name": "stdout",
     "output_type": "stream",
     "text": [
      "╒═════════════════════════════════════════════════════╤══════════════════════════════╤═══════════╤══════════════════╤══════════════════╤══════════════════╕\n",
      "│                                                     │                              │ Missing   │ Overall          │ Non-white        │ White            │\n",
      "╞═════════════════════════════════════════════════════╪══════════════════════════════╪═══════════╪══════════════════╪══════════════════╪══════════════════╡\n",
      "│ n                                                   │                              │           │ 5113             │ 1634             │ 3479             │\n",
      "├─────────────────────────────────────────────────────┼──────────────────────────────┼───────────┼──────────────────┼──────────────────┼──────────────────┤\n",
      "│ gender, n (%)                                       │ F                            │ 0         │ 2051 (40.1)      │ 670 (41.0)       │ 1381 (39.7)      │\n",
      "├─────────────────────────────────────────────────────┼──────────────────────────────┼───────────┼──────────────────┼──────────────────┼──────────────────┤\n",
      "│                                                     │ M                            │           │ 3062 (59.9)      │ 964 (59.0)       │ 2098 (60.3)      │\n",
      "├─────────────────────────────────────────────────────┼──────────────────────────────┼───────────┼──────────────────┼──────────────────┼──────────────────┤\n",
      "│ admission_age, median [Q1,Q3]                       │                              │ 0         │ 66.0 [55.0,76.0] │ 63.0 [51.0,74.0] │ 67.0 [56.0,77.0] │\n",
      "├─────────────────────────────────────────────────────┼──────────────────────────────┼───────────┼──────────────────┼──────────────────┼──────────────────┤\n",
      "│ race_group, n (%)                                   │ Asian                        │ 0         │ 112 (2.2)        │ 112 (6.9)        │                  │\n",
      "├─────────────────────────────────────────────────────┼──────────────────────────────┼───────────┼──────────────────┼──────────────────┼──────────────────┤\n",
      "│                                                     │ Black                        │           │ 408 (8.0)        │ 408 (25.0)       │                  │\n",
      "├─────────────────────────────────────────────────────┼──────────────────────────────┼───────────┼──────────────────┼──────────────────┼──────────────────┤\n",
      "│                                                     │ Hispanic                     │           │ 177 (3.5)        │ 177 (10.8)       │                  │\n",
      "├─────────────────────────────────────────────────────┼──────────────────────────────┼───────────┼──────────────────┼──────────────────┼──────────────────┤\n",
      "│                                                     │ Other                        │           │ 937 (18.3)       │ 937 (57.3)       │                  │\n",
      "├─────────────────────────────────────────────────────┼──────────────────────────────┼───────────┼──────────────────┼──────────────────┼──────────────────┤\n",
      "│                                                     │ White                        │           │ 3479 (68.0)      │                  │ 3479 (100.0)     │\n",
      "├─────────────────────────────────────────────────────┼──────────────────────────────┼───────────┼──────────────────┼──────────────────┼──────────────────┤\n",
      "│ english proficiency, n (%)                          │ 0                            │ 0         │ 543 (10.6)       │ 360 (22.0)       │ 183 (5.3)        │\n",
      "├─────────────────────────────────────────────────────┼──────────────────────────────┼───────────┼──────────────────┼──────────────────┼──────────────────┤\n",
      "│                                                     │ 1                            │           │ 4570 (89.4)      │ 1274 (78.0)      │ 3296 (94.7)      │\n",
      "├─────────────────────────────────────────────────────┼──────────────────────────────┼───────────┼──────────────────┼──────────────────┼──────────────────┤\n",
      "│ private_insurance, n (%)                            │ 0                            │ 0         │ 2873 (56.2)      │ 872 (53.4)       │ 2001 (57.5)      │\n",
      "├─────────────────────────────────────────────────────┼──────────────────────────────┼───────────┼──────────────────┼──────────────────┼──────────────────┤\n",
      "│                                                     │ 1                            │           │ 2240 (43.8)      │ 762 (46.6)       │ 1478 (42.5)      │\n",
      "├─────────────────────────────────────────────────────┼──────────────────────────────┼───────────┼──────────────────┼──────────────────┼──────────────────┤\n",
      "│ discharge disposition, n (%)                        │ Death or hospice             │ 6         │ 1352 (26.5)      │ 461 (28.2)       │ 891 (25.6)       │\n",
      "├─────────────────────────────────────────────────────┼──────────────────────────────┼───────────┼──────────────────┼──────────────────┼──────────────────┤\n",
      "│                                                     │ Home or equivalent           │           │ 933 (18.3)       │ 334 (20.5)       │ 599 (17.2)       │\n",
      "├─────────────────────────────────────────────────────┼──────────────────────────────┼───────────┼──────────────────┼──────────────────┼──────────────────┤\n",
      "│                                                     │ Other hospital or equivalent │           │ 1267 (24.8)      │ 398 (24.4)       │ 869 (25.0)       │\n",
      "├─────────────────────────────────────────────────────┼──────────────────────────────┼───────────┼──────────────────┼──────────────────┼──────────────────┤\n",
      "│                                                     │ Rehab                        │           │ 765 (15.0)       │ 225 (13.8)       │ 540 (15.5)       │\n",
      "├─────────────────────────────────────────────────────┼──────────────────────────────┼───────────┼──────────────────┼──────────────────┼──────────────────┤\n",
      "│                                                     │ Skilled nursing facility     │           │ 790 (15.5)       │ 214 (13.1)       │ 576 (16.6)       │\n",
      "├─────────────────────────────────────────────────────┼──────────────────────────────┼───────────┼──────────────────┼──────────────────┼──────────────────┤\n",
      "│ SOFA, median [Q1,Q3]                                │                              │ 0         │ 7.0 [5.0,10.0]   │ 8.0 [5.0,11.0]   │ 7.0 [5.0,10.0]   │\n",
      "├─────────────────────────────────────────────────────┼──────────────────────────────┼───────────┼──────────────────┼──────────────────┼──────────────────┤\n",
      "│ charlson_comorbidity_index, median [Q1,Q3]          │                              │ 0         │ 5.0 [3.0,7.0]    │ 5.0 [3.0,7.0]    │ 5.0 [3.0,7.0]    │\n",
      "├─────────────────────────────────────────────────────┼──────────────────────────────┼───────────┼──────────────────┼──────────────────┼──────────────────┤\n",
      "│ length of stay in ICU, median [Q1,Q3]               │                              │ 0         │ 9.0 [5.8,14.9]   │ 8.9 [5.8,14.8]   │ 9.1 [5.8,14.9]   │\n",
      "├─────────────────────────────────────────────────────┼──────────────────────────────┼───────────┼──────────────────┼──────────────────┼──────────────────┤\n",
      "│ length of stay in ICU for survivors, median [Q1,Q3] │                              │ 1766      │ 8.8 [5.6,14.5]   │ 8.9 [5.8,14.6]   │ 8.7 [5.5,14.4]   │\n",
      "├─────────────────────────────────────────────────────┼──────────────────────────────┼───────────┼──────────────────┼──────────────────┼──────────────────┤\n",
      "│ length of stay in ICU for expired, median [Q1,Q3]   │                              │ 3347      │ 9.4 [5.9,15.5]   │ 8.5 [5.5,15.5]   │ 9.8 [6.1,15.4]   │\n",
      "├─────────────────────────────────────────────────────┼──────────────────────────────┼───────────┼──────────────────┼──────────────────┼──────────────────┤\n",
      "│ mortality in 90 days, n (%)                         │ 0                            │ 0         │ 3347 (65.5)      │ 1052 (64.4)      │ 2295 (66.0)      │\n",
      "├─────────────────────────────────────────────────────┼──────────────────────────────┼───────────┼──────────────────┼──────────────────┼──────────────────┤\n",
      "│                                                     │ 1                            │           │ 1766 (34.5)      │ 582 (35.6)       │ 1184 (34.0)      │\n",
      "├─────────────────────────────────────────────────────┼──────────────────────────────┼───────────┼──────────────────┼──────────────────┼──────────────────┤\n",
      "│ mortality in hospital, n (%)                        │ 0                            │ 0         │ 3761 (73.6)      │ 1173 (71.8)      │ 2588 (74.4)      │\n",
      "├─────────────────────────────────────────────────────┼──────────────────────────────┼───────────┼──────────────────┼──────────────────┼──────────────────┤\n",
      "│                                                     │ 1                            │           │ 1352 (26.4)      │ 461 (28.2)       │ 891 (25.6)       │\n",
      "╘═════════════════════════════════════════════════════╧══════════════════════════════╧═══════════╧══════════════════╧══════════════════╧══════════════════╛\n"
     ]
    }
   ],
   "source": [
    "# Display the table using the tabulate method. \n",
    "print(mytable.tabulate(tablefmt = \"fancy_grid\"))"
   ]
  },
  {
   "cell_type": "code",
   "execution_count": null,
   "metadata": {},
   "outputs": [],
   "source": [
    "mytable.to_excel('../../results/table1_by_missing_cvp.xlsx')"
   ]
  },
  {
   "cell_type": "code",
   "execution_count": null,
   "metadata": {},
   "outputs": [],
   "source": [
    "mytable.to_html('../../results/table1_by_missing_cvp.html')"
   ]
  }
 ],
 "metadata": {
  "interpreter": {
   "hash": "0d8aee86fee2b3ba25d32dc9f725c5d414dda3463734cf4a34eb13ce0a97930c"
  },
  "kernelspec": {
   "display_name": "Python 3.8.0 ('pos')",
   "language": "python",
   "name": "python3"
  },
  "language_info": {
   "codemirror_mode": {
    "name": "ipython",
    "version": 3
   },
   "file_extension": ".py",
   "mimetype": "text/x-python",
   "name": "python",
   "nbconvert_exporter": "python",
   "pygments_lexer": "ipython3",
   "version": "3.9.7"
  },
  "orig_nbformat": 4
 },
 "nbformat": 4,
 "nbformat_minor": 2
}
