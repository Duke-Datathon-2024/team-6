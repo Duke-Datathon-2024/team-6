{
 "cells": [
  {
   "cell_type": "code",
   "execution_count": 299,
   "metadata": {},
   "outputs": [],
   "source": [
    "import pandas as pd\n",
    "import numpy as np\n",
    "from tableone import TableOne"
   ]
  },
  {
   "cell_type": "code",
   "execution_count": 300,
   "metadata": {},
   "outputs": [
    {
     "data": {
      "text/html": [
       "<div>\n",
       "<style scoped>\n",
       "    .dataframe tbody tr th:only-of-type {\n",
       "        vertical-align: middle;\n",
       "    }\n",
       "\n",
       "    .dataframe tbody tr th {\n",
       "        vertical-align: top;\n",
       "    }\n",
       "\n",
       "    .dataframe thead th {\n",
       "        text-align: right;\n",
       "    }\n",
       "</style>\n",
       "<table border=\"1\" class=\"dataframe\">\n",
       "  <thead>\n",
       "    <tr style=\"text-align: right;\">\n",
       "      <th></th>\n",
       "      <th>subject_id</th>\n",
       "      <th>hadm_id</th>\n",
       "      <th>stay_id</th>\n",
       "      <th>gender</th>\n",
       "      <th>dod</th>\n",
       "      <th>admittime</th>\n",
       "      <th>dischtime</th>\n",
       "      <th>los_hospital</th>\n",
       "      <th>admission_age</th>\n",
       "      <th>white_race</th>\n",
       "      <th>...</th>\n",
       "      <th>mortality_in</th>\n",
       "      <th>mortality_90</th>\n",
       "      <th>disposition</th>\n",
       "      <th>white_race.1</th>\n",
       "      <th>los_icu_survivors</th>\n",
       "      <th>los_icu_expired</th>\n",
       "      <th>anchor_age</th>\n",
       "      <th>charlson_comorbidity_index</th>\n",
       "      <th>discharge_location</th>\n",
       "      <th>SOFA</th>\n",
       "    </tr>\n",
       "  </thead>\n",
       "  <tbody>\n",
       "    <tr>\n",
       "      <th>0</th>\n",
       "      <td>16124682</td>\n",
       "      <td>24817331</td>\n",
       "      <td>35315105</td>\n",
       "      <td>M</td>\n",
       "      <td>2183-11-15</td>\n",
       "      <td>2183-10-19 16:38:00</td>\n",
       "      <td>2183-11-15 18:38:00</td>\n",
       "      <td>27</td>\n",
       "      <td>72</td>\n",
       "      <td>White</td>\n",
       "      <td>...</td>\n",
       "      <td>1</td>\n",
       "      <td>1</td>\n",
       "      <td>Death or hospice</td>\n",
       "      <td>White</td>\n",
       "      <td>NaN</td>\n",
       "      <td>27.17</td>\n",
       "      <td>72</td>\n",
       "      <td>6</td>\n",
       "      <td>DIED</td>\n",
       "      <td>5</td>\n",
       "    </tr>\n",
       "    <tr>\n",
       "      <th>1</th>\n",
       "      <td>16277979</td>\n",
       "      <td>21413780</td>\n",
       "      <td>30514767</td>\n",
       "      <td>M</td>\n",
       "      <td>NaN</td>\n",
       "      <td>2127-02-09 20:58:00</td>\n",
       "      <td>2127-02-19 20:04:00</td>\n",
       "      <td>10</td>\n",
       "      <td>69</td>\n",
       "      <td>White</td>\n",
       "      <td>...</td>\n",
       "      <td>0</td>\n",
       "      <td>0</td>\n",
       "      <td>Skilled nursing facility</td>\n",
       "      <td>White</td>\n",
       "      <td>3.79</td>\n",
       "      <td>NaN</td>\n",
       "      <td>68</td>\n",
       "      <td>4</td>\n",
       "      <td>SKILLED NURSING FACILITY</td>\n",
       "      <td>6</td>\n",
       "    </tr>\n",
       "    <tr>\n",
       "      <th>2</th>\n",
       "      <td>17172316</td>\n",
       "      <td>26428234</td>\n",
       "      <td>39442549</td>\n",
       "      <td>M</td>\n",
       "      <td>2144-02-08</td>\n",
       "      <td>2143-12-26 21:09:00</td>\n",
       "      <td>2144-02-08 11:30:00</td>\n",
       "      <td>44</td>\n",
       "      <td>54</td>\n",
       "      <td>White</td>\n",
       "      <td>...</td>\n",
       "      <td>1</td>\n",
       "      <td>1</td>\n",
       "      <td>Death or hospice</td>\n",
       "      <td>White</td>\n",
       "      <td>NaN</td>\n",
       "      <td>15.04</td>\n",
       "      <td>54</td>\n",
       "      <td>1</td>\n",
       "      <td>DIED</td>\n",
       "      <td>1</td>\n",
       "    </tr>\n",
       "    <tr>\n",
       "      <th>3</th>\n",
       "      <td>12388732</td>\n",
       "      <td>26592796</td>\n",
       "      <td>35565911</td>\n",
       "      <td>M</td>\n",
       "      <td>NaN</td>\n",
       "      <td>2185-12-08 13:13:00</td>\n",
       "      <td>2186-01-01 14:00:00</td>\n",
       "      <td>24</td>\n",
       "      <td>68</td>\n",
       "      <td>White</td>\n",
       "      <td>...</td>\n",
       "      <td>0</td>\n",
       "      <td>0</td>\n",
       "      <td>Rehab</td>\n",
       "      <td>White</td>\n",
       "      <td>11.88</td>\n",
       "      <td>NaN</td>\n",
       "      <td>68</td>\n",
       "      <td>9</td>\n",
       "      <td>REHAB</td>\n",
       "      <td>4</td>\n",
       "    </tr>\n",
       "    <tr>\n",
       "      <th>4</th>\n",
       "      <td>11402910</td>\n",
       "      <td>23375177</td>\n",
       "      <td>36422142</td>\n",
       "      <td>F</td>\n",
       "      <td>2129-09-12</td>\n",
       "      <td>2129-08-28 17:57:00</td>\n",
       "      <td>2129-09-12 14:10:00</td>\n",
       "      <td>15</td>\n",
       "      <td>60</td>\n",
       "      <td>White</td>\n",
       "      <td>...</td>\n",
       "      <td>1</td>\n",
       "      <td>1</td>\n",
       "      <td>Death or hospice</td>\n",
       "      <td>White</td>\n",
       "      <td>NaN</td>\n",
       "      <td>11.17</td>\n",
       "      <td>60</td>\n",
       "      <td>5</td>\n",
       "      <td>DIED</td>\n",
       "      <td>12</td>\n",
       "    </tr>\n",
       "    <tr>\n",
       "      <th>...</th>\n",
       "      <td>...</td>\n",
       "      <td>...</td>\n",
       "      <td>...</td>\n",
       "      <td>...</td>\n",
       "      <td>...</td>\n",
       "      <td>...</td>\n",
       "      <td>...</td>\n",
       "      <td>...</td>\n",
       "      <td>...</td>\n",
       "      <td>...</td>\n",
       "      <td>...</td>\n",
       "      <td>...</td>\n",
       "      <td>...</td>\n",
       "      <td>...</td>\n",
       "      <td>...</td>\n",
       "      <td>...</td>\n",
       "      <td>...</td>\n",
       "      <td>...</td>\n",
       "      <td>...</td>\n",
       "      <td>...</td>\n",
       "      <td>...</td>\n",
       "    </tr>\n",
       "    <tr>\n",
       "      <th>5108</th>\n",
       "      <td>18642064</td>\n",
       "      <td>25378793</td>\n",
       "      <td>33175269</td>\n",
       "      <td>M</td>\n",
       "      <td>NaN</td>\n",
       "      <td>2167-11-17 12:19:00</td>\n",
       "      <td>2167-11-30 12:57:00</td>\n",
       "      <td>13</td>\n",
       "      <td>68</td>\n",
       "      <td>Non-white</td>\n",
       "      <td>...</td>\n",
       "      <td>0</td>\n",
       "      <td>0</td>\n",
       "      <td>Home or equivalent</td>\n",
       "      <td>Non-white</td>\n",
       "      <td>7.38</td>\n",
       "      <td>NaN</td>\n",
       "      <td>64</td>\n",
       "      <td>4</td>\n",
       "      <td>HOME</td>\n",
       "      <td>7</td>\n",
       "    </tr>\n",
       "    <tr>\n",
       "      <th>5109</th>\n",
       "      <td>14539351</td>\n",
       "      <td>21502552</td>\n",
       "      <td>34379501</td>\n",
       "      <td>F</td>\n",
       "      <td>NaN</td>\n",
       "      <td>2132-01-12 10:36:00</td>\n",
       "      <td>2132-01-24 14:50:00</td>\n",
       "      <td>12</td>\n",
       "      <td>65</td>\n",
       "      <td>White</td>\n",
       "      <td>...</td>\n",
       "      <td>0</td>\n",
       "      <td>0</td>\n",
       "      <td>Rehab</td>\n",
       "      <td>White</td>\n",
       "      <td>7.92</td>\n",
       "      <td>NaN</td>\n",
       "      <td>65</td>\n",
       "      <td>5</td>\n",
       "      <td>REHAB</td>\n",
       "      <td>6</td>\n",
       "    </tr>\n",
       "    <tr>\n",
       "      <th>5110</th>\n",
       "      <td>19893454</td>\n",
       "      <td>28167991</td>\n",
       "      <td>37119620</td>\n",
       "      <td>F</td>\n",
       "      <td>NaN</td>\n",
       "      <td>2163-04-14 00:00:00</td>\n",
       "      <td>2163-04-30 11:57:00</td>\n",
       "      <td>16</td>\n",
       "      <td>42</td>\n",
       "      <td>White</td>\n",
       "      <td>...</td>\n",
       "      <td>0</td>\n",
       "      <td>0</td>\n",
       "      <td>Home or equivalent</td>\n",
       "      <td>White</td>\n",
       "      <td>4.63</td>\n",
       "      <td>NaN</td>\n",
       "      <td>42</td>\n",
       "      <td>1</td>\n",
       "      <td>HOME</td>\n",
       "      <td>8</td>\n",
       "    </tr>\n",
       "    <tr>\n",
       "      <th>5111</th>\n",
       "      <td>16164098</td>\n",
       "      <td>23348948</td>\n",
       "      <td>37406379</td>\n",
       "      <td>F</td>\n",
       "      <td>2138-06-04</td>\n",
       "      <td>2138-05-21 07:50:00</td>\n",
       "      <td>2138-06-04 15:55:00</td>\n",
       "      <td>14</td>\n",
       "      <td>82</td>\n",
       "      <td>Non-white</td>\n",
       "      <td>...</td>\n",
       "      <td>1</td>\n",
       "      <td>1</td>\n",
       "      <td>Death or hospice</td>\n",
       "      <td>Non-white</td>\n",
       "      <td>NaN</td>\n",
       "      <td>8.29</td>\n",
       "      <td>82</td>\n",
       "      <td>5</td>\n",
       "      <td>DIED</td>\n",
       "      <td>11</td>\n",
       "    </tr>\n",
       "    <tr>\n",
       "      <th>5112</th>\n",
       "      <td>17076438</td>\n",
       "      <td>29332912</td>\n",
       "      <td>39103057</td>\n",
       "      <td>M</td>\n",
       "      <td>2185-06-20</td>\n",
       "      <td>2185-06-05 14:08:00</td>\n",
       "      <td>2185-06-20 05:28:00</td>\n",
       "      <td>15</td>\n",
       "      <td>61</td>\n",
       "      <td>White</td>\n",
       "      <td>...</td>\n",
       "      <td>1</td>\n",
       "      <td>1</td>\n",
       "      <td>Death or hospice</td>\n",
       "      <td>White</td>\n",
       "      <td>NaN</td>\n",
       "      <td>14.63</td>\n",
       "      <td>61</td>\n",
       "      <td>8</td>\n",
       "      <td>DIED</td>\n",
       "      <td>6</td>\n",
       "    </tr>\n",
       "  </tbody>\n",
       "</table>\n",
       "<p>5113 rows × 35 columns</p>\n",
       "</div>"
      ],
      "text/plain": [
       "      subject_id   hadm_id   stay_id gender         dod            admittime  \\\n",
       "0       16124682  24817331  35315105      M  2183-11-15  2183-10-19 16:38:00   \n",
       "1       16277979  21413780  30514767      M         NaN  2127-02-09 20:58:00   \n",
       "2       17172316  26428234  39442549      M  2144-02-08  2143-12-26 21:09:00   \n",
       "3       12388732  26592796  35565911      M         NaN  2185-12-08 13:13:00   \n",
       "4       11402910  23375177  36422142      F  2129-09-12  2129-08-28 17:57:00   \n",
       "...          ...       ...       ...    ...         ...                  ...   \n",
       "5108    18642064  25378793  33175269      M         NaN  2167-11-17 12:19:00   \n",
       "5109    14539351  21502552  34379501      F         NaN  2132-01-12 10:36:00   \n",
       "5110    19893454  28167991  37119620      F         NaN  2163-04-14 00:00:00   \n",
       "5111    16164098  23348948  37406379      F  2138-06-04  2138-05-21 07:50:00   \n",
       "5112    17076438  29332912  39103057      M  2185-06-20  2185-06-05 14:08:00   \n",
       "\n",
       "                dischtime  los_hospital  admission_age white_race  ...  \\\n",
       "0     2183-11-15 18:38:00            27             72      White  ...   \n",
       "1     2127-02-19 20:04:00            10             69      White  ...   \n",
       "2     2144-02-08 11:30:00            44             54      White  ...   \n",
       "3     2186-01-01 14:00:00            24             68      White  ...   \n",
       "4     2129-09-12 14:10:00            15             60      White  ...   \n",
       "...                   ...           ...            ...        ...  ...   \n",
       "5108  2167-11-30 12:57:00            13             68  Non-white  ...   \n",
       "5109  2132-01-24 14:50:00            12             65      White  ...   \n",
       "5110  2163-04-30 11:57:00            16             42      White  ...   \n",
       "5111  2138-06-04 15:55:00            14             82  Non-white  ...   \n",
       "5112  2185-06-20 05:28:00            15             61      White  ...   \n",
       "\n",
       "      mortality_in  mortality_90               disposition white_race.1  \\\n",
       "0                1             1          Death or hospice        White   \n",
       "1                0             0  Skilled nursing facility        White   \n",
       "2                1             1          Death or hospice        White   \n",
       "3                0             0                     Rehab        White   \n",
       "4                1             1          Death or hospice        White   \n",
       "...            ...           ...                       ...          ...   \n",
       "5108             0             0        Home or equivalent    Non-white   \n",
       "5109             0             0                     Rehab        White   \n",
       "5110             0             0        Home or equivalent        White   \n",
       "5111             1             1          Death or hospice    Non-white   \n",
       "5112             1             1          Death or hospice        White   \n",
       "\n",
       "     los_icu_survivors  los_icu_expired  anchor_age  \\\n",
       "0                  NaN            27.17          72   \n",
       "1                 3.79              NaN          68   \n",
       "2                  NaN            15.04          54   \n",
       "3                11.88              NaN          68   \n",
       "4                  NaN            11.17          60   \n",
       "...                ...              ...         ...   \n",
       "5108              7.38              NaN          64   \n",
       "5109              7.92              NaN          65   \n",
       "5110              4.63              NaN          42   \n",
       "5111               NaN             8.29          82   \n",
       "5112               NaN            14.63          61   \n",
       "\n",
       "      charlson_comorbidity_index        discharge_location  SOFA  \n",
       "0                              6                      DIED     5  \n",
       "1                              4  SKILLED NURSING FACILITY     6  \n",
       "2                              1                      DIED     1  \n",
       "3                              9                     REHAB     4  \n",
       "4                              5                      DIED    12  \n",
       "...                          ...                       ...   ...  \n",
       "5108                           4                      HOME     7  \n",
       "5109                           5                     REHAB     6  \n",
       "5110                           1                      HOME     8  \n",
       "5111                           5                      DIED    11  \n",
       "5112                           8                      DIED     6  \n",
       "\n",
       "[5113 rows x 35 columns]"
      ]
     },
     "execution_count": 300,
     "metadata": {},
     "output_type": "execute_result"
    }
   ],
   "source": [
    "df = pd.read_csv('../../data/merged_processed_df_team6.csv')\n",
    "df"
   ]
  },
  {
   "cell_type": "code",
   "execution_count": 301,
   "metadata": {},
   "outputs": [
    {
     "data": {
      "text/plain": [
       "(5113, 35)"
      ]
     },
     "execution_count": 301,
     "metadata": {},
     "output_type": "execute_result"
    }
   ],
   "source": [
    "df.shape"
   ]
  },
  {
   "cell_type": "code",
   "execution_count": 302,
   "metadata": {},
   "outputs": [
    {
     "data": {
      "text/plain": [
       "Index(['subject_id', 'hadm_id', 'stay_id', 'gender', 'dod', 'admittime',\n",
       "       'dischtime', 'los_hospital', 'admission_age', 'white_race',\n",
       "       'hospital_expire_flag', 'hospstay_seq', 'first_hosp_stay', 'icu_intime',\n",
       "       'icu_outtime', 'los_icu', 'icustay_seq', 'first_icu_stay', 'race_group',\n",
       "       'sex_female', 'los_icu_1', 'language', 'eng_prof', 'insurance',\n",
       "       'private_insurance', 'mortality_in', 'mortality_90', 'disposition',\n",
       "       'white_race.1', 'los_icu_survivors', 'los_icu_expired', 'anchor_age',\n",
       "       'charlson_comorbidity_index', 'discharge_location', 'SOFA'],\n",
       "      dtype='object')"
      ]
     },
     "execution_count": 302,
     "metadata": {},
     "output_type": "execute_result"
    }
   ],
   "source": [
    "df.columns"
   ]
  },
  {
   "cell_type": "code",
   "execution_count": 303,
   "metadata": {},
   "outputs": [
    {
     "data": {
      "text/plain": [
       "SOFA\n",
       "7     499\n",
       "8     496\n",
       "5     493\n",
       "6     473\n",
       "9     471\n",
       "4     442\n",
       "10    393\n",
       "11    342\n",
       "12    258\n",
       "3     236\n",
       "1     208\n",
       "2     198\n",
       "13    197\n",
       "14    132\n",
       "15     97\n",
       "16     70\n",
       "0      30\n",
       "17     29\n",
       "18     25\n",
       "19     12\n",
       "20      7\n",
       "21      3\n",
       "23      1\n",
       "22      1\n",
       "Name: count, dtype: int64"
      ]
     },
     "execution_count": 303,
     "metadata": {},
     "output_type": "execute_result"
    }
   ],
   "source": [
    "df['SOFA'].value_counts()"
   ]
  },
  {
   "cell_type": "code",
   "execution_count": 304,
   "metadata": {},
   "outputs": [
    {
     "data": {
      "text/plain": [
       "charlson_comorbidity_index\n",
       "5     705\n",
       "4     689\n",
       "6     649\n",
       "3     593\n",
       "7     533\n",
       "8     408\n",
       "2     394\n",
       "1     309\n",
       "9     286\n",
       "0     238\n",
       "10    164\n",
       "11     75\n",
       "12     40\n",
       "13     10\n",
       "14      9\n",
       "15      7\n",
       "19      2\n",
       "16      1\n",
       "17      1\n",
       "Name: count, dtype: int64"
      ]
     },
     "execution_count": 304,
     "metadata": {},
     "output_type": "execute_result"
    }
   ],
   "source": [
    "df['charlson_comorbidity_index'].value_counts()"
   ]
  },
  {
   "cell_type": "code",
   "execution_count": 305,
   "metadata": {},
   "outputs": [
    {
     "data": {
      "text/plain": [
       "mortality_in\n",
       "0    3761\n",
       "1    1352\n",
       "Name: count, dtype: int64"
      ]
     },
     "execution_count": 305,
     "metadata": {},
     "output_type": "execute_result"
    }
   ],
   "source": [
    "df['mortality_in'].value_counts()"
   ]
  },
  {
   "cell_type": "code",
   "execution_count": 306,
   "metadata": {},
   "outputs": [
    {
     "data": {
      "text/plain": [
       "mortality_90\n",
       "0    3347\n",
       "1    1766\n",
       "Name: count, dtype: int64"
      ]
     },
     "execution_count": 306,
     "metadata": {},
     "output_type": "execute_result"
    }
   ],
   "source": [
    "df['mortality_90'].value_counts()"
   ]
  },
  {
   "cell_type": "code",
   "execution_count": 307,
   "metadata": {},
   "outputs": [
    {
     "data": {
      "text/plain": [
       "9.0"
      ]
     },
     "execution_count": 307,
     "metadata": {},
     "output_type": "execute_result"
    }
   ],
   "source": [
    "df['los_icu'].median()"
   ]
  },
  {
   "cell_type": "code",
   "execution_count": 308,
   "metadata": {},
   "outputs": [],
   "source": [
    "# list of columns to be included in Table 1\n",
    "columns_to_include = ['gender', 'admission_age','white_race','race_group',\n",
    "       'eng_prof', 'private_insurance',\n",
    "       'disposition',\n",
    "       'SOFA', 'charlson_comorbidity_index', 'los_icu',\n",
    "       'los_icu_survivors', 'los_icu_expired', \n",
    "       'mortality_90', 'mortality_in'    \n",
    "       ]"
   ]
  },
  {
   "cell_type": "code",
   "execution_count": 309,
   "metadata": {},
   "outputs": [
    {
     "data": {
      "text/plain": [
       "race_group\n",
       "White       3479\n",
       "Other        937\n",
       "Black        408\n",
       "Hispanic     177\n",
       "Asian        112\n",
       "Name: count, dtype: int64"
      ]
     },
     "execution_count": 309,
     "metadata": {},
     "output_type": "execute_result"
    }
   ],
   "source": [
    "df['race_group'].value_counts()"
   ]
  },
  {
   "cell_type": "code",
   "execution_count": 310,
   "metadata": {},
   "outputs": [
    {
     "data": {
      "text/plain": [
       "white_race\n",
       "White        3479\n",
       "Non-white     408\n",
       "Name: count, dtype: int64"
      ]
     },
     "execution_count": 310,
     "metadata": {},
     "output_type": "execute_result"
    }
   ],
   "source": [
    "df['white_race'].value_counts()"
   ]
  },
  {
   "cell_type": "code",
   "execution_count": 314,
   "metadata": {},
   "outputs": [],
   "source": [
    "# list of columns containing categorical variables\n",
    "categorical = ['gender', \n",
    "       'race_group',\n",
    "       'eng_prof', 'private_insurance', \n",
    "       'disposition',\n",
    "       # 'mechanical_pressor',\n",
    "       'mortality_90', 'mortality_in']"
   ]
  },
  {
   "cell_type": "code",
   "execution_count": 315,
   "metadata": {},
   "outputs": [],
   "source": [
    "# categorical variable for stratification\n",
    "groupby = ['white_race']"
   ]
  },
  {
   "cell_type": "code",
   "execution_count": 316,
   "metadata": {},
   "outputs": [],
   "source": [
    "# list of non-normal variables\n",
    "nonnormal = ['admission_age', 'SOFA', 'charlson_comorbidity_index', 'los_icu',\n",
    "              'los_icu_survivors', 'los_icu_expired', ]"
   ]
  },
  {
   "cell_type": "code",
   "execution_count": 317,
   "metadata": {},
   "outputs": [],
   "source": [
    "# dictionary of alternative labels:\n",
    "labels={'disposition': 'discharge disposition',\n",
    "       'eng_prof': 'english proficiency', 'first_code': 'first ICD code',\n",
    "       'los_icu': 'length of stay in ICU', \n",
    "        'los_icu_survivors': 'length of stay in ICU for survivors',\n",
    "        'los_icu_expired': 'length of stay in ICU for expired',\n",
    "       'mortality_90': 'mortality in 90 days',\n",
    "       'mortality_in': 'mortality in hospital'}"
   ]
  },
  {
   "cell_type": "code",
   "execution_count": 318,
   "metadata": {},
   "outputs": [
    {
     "name": "stderr",
     "output_type": "stream",
     "text": [
      "/Users/chrystinne/.pyenv/versions/3.9.7/lib/python3.9/site-packages/tableone/tableone.py:927: FutureWarning: The provided callable <function mean at 0x103a71af0> is currently using DataFrameGroupBy.mean. In a future version of pandas, the provided callable will be used directly. To keep current behavior pass the string \"mean\" instead.\n",
      "  df_cont = pd.pivot_table(cont_data,\n",
      "/Users/chrystinne/.pyenv/versions/3.9.7/lib/python3.9/site-packages/tableone/tableone.py:927: FutureWarning: The provided callable <function median at 0x103c43940> is currently using DataFrameGroupBy.median. In a future version of pandas, the provided callable will be used directly. To keep current behavior pass the string \"median\" instead.\n",
      "  df_cont = pd.pivot_table(cont_data,\n",
      "/Users/chrystinne/.pyenv/versions/3.9.7/lib/python3.9/site-packages/tableone/tableone.py:927: FutureWarning: The provided callable <built-in function min> is currently using DataFrameGroupBy.min. In a future version of pandas, the provided callable will be used directly. To keep current behavior pass the string \"min\" instead.\n",
      "  df_cont = pd.pivot_table(cont_data,\n",
      "/Users/chrystinne/.pyenv/versions/3.9.7/lib/python3.9/site-packages/tableone/tableone.py:927: FutureWarning: The provided callable <built-in function max> is currently using DataFrameGroupBy.max. In a future version of pandas, the provided callable will be used directly. To keep current behavior pass the string \"max\" instead.\n",
      "  df_cont = pd.pivot_table(cont_data,\n"
     ]
    }
   ],
   "source": [
    "# Create an instance of TableOne with the input arguments\n",
    "mytable = TableOne(df, columns=columns_to_include, categorical=categorical, groupby=groupby, nonnormal=nonnormal, rename=labels, pval=False)\n"
   ]
  },
  {
   "cell_type": "code",
   "execution_count": 319,
   "metadata": {},
   "outputs": [
    {
     "name": "stdout",
     "output_type": "stream",
     "text": [
      "╒═════════════════════════════════════════════════════╤══════════════════════════════╤═══════════╤══════════════════╤══════════════════╤══════════════════╕\n",
      "│                                                     │                              │ Missing   │ Overall          │ Non-white        │ White            │\n",
      "╞═════════════════════════════════════════════════════╪══════════════════════════════╪═══════════╪══════════════════╪══════════════════╪══════════════════╡\n",
      "│ n                                                   │                              │           │ 5113             │ 408              │ 3479             │\n",
      "├─────────────────────────────────────────────────────┼──────────────────────────────┼───────────┼──────────────────┼──────────────────┼──────────────────┤\n",
      "│ gender, n (%)                                       │ F                            │ 0         │ 2051 (40.1)      │ 221 (54.2)       │ 1381 (39.7)      │\n",
      "├─────────────────────────────────────────────────────┼──────────────────────────────┼───────────┼──────────────────┼──────────────────┼──────────────────┤\n",
      "│                                                     │ M                            │           │ 3062 (59.9)      │ 187 (45.8)       │ 2098 (60.3)      │\n",
      "├─────────────────────────────────────────────────────┼──────────────────────────────┼───────────┼──────────────────┼──────────────────┼──────────────────┤\n",
      "│ admission_age, median [Q1,Q3]                       │                              │ 0         │ 66.0 [55.0,76.0] │ 64.0 [53.0,74.0] │ 67.0 [56.0,77.0] │\n",
      "├─────────────────────────────────────────────────────┼──────────────────────────────┼───────────┼──────────────────┼──────────────────┼──────────────────┤\n",
      "│ race_group, n (%)                                   │ Black                        │ 0         │ 408 (8.0)        │ 408 (100.0)      │                  │\n",
      "├─────────────────────────────────────────────────────┼──────────────────────────────┼───────────┼──────────────────┼──────────────────┼──────────────────┤\n",
      "│                                                     │ White                        │           │ 3479 (68.0)      │                  │ 3479 (100.0)     │\n",
      "├─────────────────────────────────────────────────────┼──────────────────────────────┼───────────┼──────────────────┼──────────────────┼──────────────────┤\n",
      "│ english proficiency, n (%)                          │ 0                            │ 0         │ 543 (10.6)       │ 39 (9.6)         │ 183 (5.3)        │\n",
      "├─────────────────────────────────────────────────────┼──────────────────────────────┼───────────┼──────────────────┼──────────────────┼──────────────────┤\n",
      "│                                                     │ 1                            │           │ 4570 (89.4)      │ 369 (90.4)       │ 3296 (94.7)      │\n",
      "├─────────────────────────────────────────────────────┼──────────────────────────────┼───────────┼──────────────────┼──────────────────┼──────────────────┤\n",
      "│ private_insurance, n (%)                            │ 0                            │ 0         │ 2873 (56.2)      │ 235 (57.6)       │ 2001 (57.5)      │\n",
      "├─────────────────────────────────────────────────────┼──────────────────────────────┼───────────┼──────────────────┼──────────────────┼──────────────────┤\n",
      "│                                                     │ 1                            │           │ 2240 (43.8)      │ 173 (42.4)       │ 1478 (42.5)      │\n",
      "├─────────────────────────────────────────────────────┼──────────────────────────────┼───────────┼──────────────────┼──────────────────┼──────────────────┤\n",
      "│ discharge disposition, n (%)                        │ Death or hospice             │ 6         │ 1352 (26.5)      │ 102 (25.0)       │ 891 (25.6)       │\n",
      "├─────────────────────────────────────────────────────┼──────────────────────────────┼───────────┼──────────────────┼──────────────────┼──────────────────┤\n",
      "│                                                     │ Home or equivalent           │           │ 933 (18.3)       │ 80 (19.6)        │ 599 (17.2)       │\n",
      "├─────────────────────────────────────────────────────┼──────────────────────────────┼───────────┼──────────────────┼──────────────────┼──────────────────┤\n",
      "│                                                     │ Other hospital or equivalent │           │ 1267 (24.8)      │ 124 (30.4)       │ 869 (25.0)       │\n",
      "├─────────────────────────────────────────────────────┼──────────────────────────────┼───────────┼──────────────────┼──────────────────┼──────────────────┤\n",
      "│                                                     │ Rehab                        │           │ 765 (15.0)       │ 33 (8.1)         │ 540 (15.5)       │\n",
      "├─────────────────────────────────────────────────────┼──────────────────────────────┼───────────┼──────────────────┼──────────────────┼──────────────────┤\n",
      "│                                                     │ Skilled nursing facility     │           │ 790 (15.5)       │ 69 (16.9)        │ 576 (16.6)       │\n",
      "├─────────────────────────────────────────────────────┼──────────────────────────────┼───────────┼──────────────────┼──────────────────┼──────────────────┤\n",
      "│ SOFA, median [Q1,Q3]                                │                              │ 0         │ 7.0 [5.0,10.0]   │ 8.0 [5.0,11.0]   │ 7.0 [5.0,10.0]   │\n",
      "├─────────────────────────────────────────────────────┼──────────────────────────────┼───────────┼──────────────────┼──────────────────┼──────────────────┤\n",
      "│ charlson_comorbidity_index, median [Q1,Q3]          │                              │ 0         │ 5.0 [3.0,7.0]    │ 5.0 [4.0,7.0]    │ 5.0 [3.0,7.0]    │\n",
      "├─────────────────────────────────────────────────────┼──────────────────────────────┼───────────┼──────────────────┼──────────────────┼──────────────────┤\n",
      "│ length of stay in ICU, median [Q1,Q3]               │                              │ 0         │ 9.0 [5.8,14.9]   │ 9.0 [5.9,14.5]   │ 9.1 [5.8,14.9]   │\n",
      "├─────────────────────────────────────────────────────┼──────────────────────────────┼───────────┼──────────────────┼──────────────────┼──────────────────┤\n",
      "│ length of stay in ICU for survivors, median [Q1,Q3] │                              │ 1766      │ 8.8 [5.6,14.5]   │ 8.9 [6.1,14.0]   │ 8.7 [5.5,14.4]   │\n",
      "├─────────────────────────────────────────────────────┼──────────────────────────────┼───────────┼──────────────────┼──────────────────┼──────────────────┤\n",
      "│ length of stay in ICU for expired, median [Q1,Q3]   │                              │ 3347      │ 9.4 [5.9,15.5]   │ 9.4 [5.2,15.5]   │ 9.8 [6.1,15.4]   │\n",
      "├─────────────────────────────────────────────────────┼──────────────────────────────┼───────────┼──────────────────┼──────────────────┼──────────────────┤\n",
      "│ mortality in 90 days, n (%)                         │ 0                            │ 0         │ 3347 (65.5)      │ 268 (65.7)       │ 2295 (66.0)      │\n",
      "├─────────────────────────────────────────────────────┼──────────────────────────────┼───────────┼──────────────────┼──────────────────┼──────────────────┤\n",
      "│                                                     │ 1                            │           │ 1766 (34.5)      │ 140 (34.3)       │ 1184 (34.0)      │\n",
      "├─────────────────────────────────────────────────────┼──────────────────────────────┼───────────┼──────────────────┼──────────────────┼──────────────────┤\n",
      "│ mortality in hospital, n (%)                        │ 0                            │ 0         │ 3761 (73.6)      │ 306 (75.0)       │ 2588 (74.4)      │\n",
      "├─────────────────────────────────────────────────────┼──────────────────────────────┼───────────┼──────────────────┼──────────────────┼──────────────────┤\n",
      "│                                                     │ 1                            │           │ 1352 (26.4)      │ 102 (25.0)       │ 891 (25.6)       │\n",
      "╘═════════════════════════════════════════════════════╧══════════════════════════════╧═══════════╧══════════════════╧══════════════════╧══════════════════╛\n"
     ]
    }
   ],
   "source": [
    "# Display the table using the tabulate method. \n",
    "print(mytable.tabulate(tablefmt = \"fancy_grid\"))"
   ]
  },
  {
   "cell_type": "code",
   "execution_count": 320,
   "metadata": {},
   "outputs": [],
   "source": [
    "mytable.to_excel('../../results/table1_by_race.xlsx')"
   ]
  },
  {
   "cell_type": "code",
   "execution_count": 321,
   "metadata": {},
   "outputs": [],
   "source": [
    "mytable.to_html('../../results/table1_by_race.html')"
   ]
  }
 ],
 "metadata": {
  "interpreter": {
   "hash": "0d8aee86fee2b3ba25d32dc9f725c5d414dda3463734cf4a34eb13ce0a97930c"
  },
  "kernelspec": {
   "display_name": "Python 3.8.0 ('pos')",
   "language": "python",
   "name": "python3"
  },
  "language_info": {
   "codemirror_mode": {
    "name": "ipython",
    "version": 3
   },
   "file_extension": ".py",
   "mimetype": "text/x-python",
   "name": "python",
   "nbconvert_exporter": "python",
   "pygments_lexer": "ipython3",
   "version": "3.9.7"
  },
  "orig_nbformat": 4
 },
 "nbformat": 4,
 "nbformat_minor": 2
}
